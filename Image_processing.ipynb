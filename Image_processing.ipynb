{
  "nbformat": 4,
  "nbformat_minor": 0,
  "metadata": {
    "colab": {
      "name": "Image processing",
      "provenance": [],
      "collapsed_sections": [],
      "include_colab_link": true
    },
    "kernelspec": {
      "name": "python3",
      "display_name": "Python 3"
    },
    "accelerator": "GPU"
  },
  "cells": [
    {
      "cell_type": "markdown",
      "metadata": {
        "id": "view-in-github",
        "colab_type": "text"
      },
      "source": [
        "<a href=\"https://colab.research.google.com/github/gmit22/LifeHack-2020/blob/master/Image_processing.ipynb\" target=\"_parent\"><img src=\"https://colab.research.google.com/assets/colab-badge.svg\" alt=\"Open In Colab\"/></a>"
      ]
    },
    {
      "cell_type": "code",
      "metadata": {
        "id": "7TYbFSrULqtQ",
        "colab_type": "code",
        "colab": {}
      },
      "source": [
        "import os\n",
        "from io import BytesIO\n",
        "from PIL import Image\n",
        "import matplotlib.pyplot as plt\n",
        "import cv2\n",
        "import numpy as np\n",
        "from sklearn.utils import shuffle\n",
        "import imutils\n",
        "import pandas as pd"
      ],
      "execution_count": 2,
      "outputs": []
    },
    {
      "cell_type": "code",
      "metadata": {
        "id": "r_IR9FOHA3eL",
        "colab_type": "code",
        "colab": {}
      },
      "source": [
        "dir = os.path.join(os.getcwd(), \"drive/My Drive/data\")"
      ],
      "execution_count": 3,
      "outputs": []
    },
    {
      "cell_type": "code",
      "metadata": {
        "id": "fkA7w0YLMARY",
        "colab_type": "code",
        "colab": {}
      },
      "source": [
        "def loadData(dir):\n",
        "\n",
        "    images = []\n",
        "    category = []\n",
        "    file_dir = []\n",
        "\n",
        "    for img in os.listdir(dir):\n",
        "\n",
        "        if img.endswith(\".png\"):\n",
        "        #images.append(cv2.imread(os.path.join(dir, img)))\n",
        "            file_dir.append(os.path.join(dir, img))\n",
        "\n",
        "            if img.startswith('NL'):      #assigning label to file according to          \n",
        "                category.append(0)             # their type\n",
        "\n",
        "            elif img.startswith('ca'):    \n",
        "                category.append(1)\n",
        "\n",
        "            elif img.startswith('Gl'):  \n",
        "                category.append(2)\n",
        "\n",
        "            elif img.startswith('Re'):          \n",
        "                category.append(3)\n",
        "\n",
        "    file_dir = np.array(file_dir)\n",
        "    category = np.array(category, dtype = 'int32')  \n",
        "\n",
        "    return shuffle(file_dir, category,random_state=862)\n"
      ],
      "execution_count": 4,
      "outputs": []
    },
    {
      "cell_type": "code",
      "metadata": {
        "id": "vu9nYwnu6pGt",
        "colab_type": "code",
        "colab": {}
      },
      "source": [
        "file_dir, category = loadData(dir)"
      ],
      "execution_count": 5,
      "outputs": []
    },
    {
      "cell_type": "code",
      "metadata": {
        "id": "kvy05Ni1VnVd",
        "colab_type": "code",
        "colab": {
          "base_uri": "https://localhost:8080/",
          "height": 35
        },
        "outputId": "56107a4a-61c4-46e6-8e30-c508d9f615d3"
      },
      "source": [
        "print(len(file_dir))"
      ],
      "execution_count": 6,
      "outputs": [
        {
          "output_type": "stream",
          "text": [
            "601\n"
          ],
          "name": "stdout"
        }
      ]
    },
    {
      "cell_type": "code",
      "metadata": {
        "id": "4UCrvS86QSMI",
        "colab_type": "code",
        "colab": {
          "base_uri": "https://localhost:8080/",
          "height": 35
        },
        "outputId": "e8ef4ed9-d9fb-4785-e322-81800906f94b"
      },
      "source": [
        "from google.colab import drive\n",
        "drive.mount('/content/drive')"
      ],
      "execution_count": 7,
      "outputs": [
        {
          "output_type": "stream",
          "text": [
            "Drive already mounted at /content/drive; to attempt to forcibly remount, call drive.mount(\"/content/drive\", force_remount=True).\n"
          ],
          "name": "stdout"
        }
      ]
    },
    {
      "cell_type": "code",
      "metadata": {
        "id": "-buEv2QNg3CS",
        "colab_type": "code",
        "colab": {}
      },
      "source": [
        "def get_label(encoded_val):\n",
        "      \n",
        "      labels = {0:'normal', 1:'cataract', 2:'glaucoma', 3:'retina'}\n",
        "      return labels[encoded_val]"
      ],
      "execution_count": 8,
      "outputs": []
    },
    {
      "cell_type": "code",
      "metadata": {
        "id": "YNg0Ccm9_Hzu",
        "colab_type": "code",
        "colab": {}
      },
      "source": [
        "def data_augment(file_dir, labels):\n",
        "\n",
        "    img_set = []\n",
        "    lbl_set = []\n",
        "\n",
        "    for i in range(len(file_dir)):\n",
        "\n",
        "        if i%100==0:\n",
        "            print(i)\n",
        "        label = labels[i]\n",
        "        img = get_object(file_dir[i])\n",
        "\n",
        "        img_b = img + 0.07*img\n",
        "        img_d = img - 0.07*img\n",
        "\n",
        "        flip_v_b = cv2.flip(img_b,0)\n",
        "        flip_h_b = cv2.flip(img_b,1)\n",
        "\n",
        "        flip_v_d = cv2.flip(img_d,0)\n",
        "        flip_h_d = cv2.flip(img_d,1)\n",
        "\n",
        "        flip_v = cv2.flip(img,0) #vertical flip\n",
        "        flip_h = cv2.flip(img,1) #lr flip\n",
        "\n",
        "        img_set.append(img)\n",
        "        # img_set.append(img_b)\n",
        "        # img_set.append(img_d)\n",
        "        img_set.append(flip_v)\n",
        "        img_set.append(flip_h)\n",
        "        img_set.append(flip_v_b)\n",
        "        img_set.append(flip_h_b)\n",
        "        img_set.append(flip_v_d)\n",
        "        img_set.append(flip_h_d)\n",
        "\n",
        "        # lbl_set.append(label)\n",
        "        # lbl_set.append(label)\n",
        "        lbl_set.append(label)\n",
        "        lbl_set.append(label)\n",
        "        lbl_set.append(label)\n",
        "        lbl_set.append(label)\n",
        "        lbl_set.append(label)\n",
        "        lbl_set.append(label)\n",
        "        lbl_set.append(label)\n",
        "    print('Done')\n",
        "    return np.array(img_set),np.array(lbl_set)\n"
      ],
      "execution_count": 9,
      "outputs": []
    },
    {
      "cell_type": "code",
      "metadata": {
        "id": "uM9v6y0RLq51",
        "colab_type": "code",
        "colab": {}
      },
      "source": [
        "def get_object(filename):\n",
        "\n",
        "    image = cv2.imread(filename)\n",
        "    im_size = 256\n",
        "    \n",
        "    gray = cv2.cvtColor(image,cv2.COLOR_BGR2GRAY) # convert 2 grayscale\n",
        "\n",
        "    retval, threshold = cv2.threshold(gray,10,255,cv2.THRESH_BINARY+cv2.THRESH_OTSU)\n",
        "    contours, hierarchy = cv2.findContours(threshold,cv2.RETR_EXTERNAL,cv2.CHAIN_APPROX_SIMPLE) # find contours\n",
        "\n",
        "    # ensure at least some circles were found\n",
        "    if contours:\n",
        "\n",
        "        contours = sorted(contours, key=cv2.contourArea, reverse=True) \n",
        "\n",
        "        #find the bounding rect\n",
        "        x,y,w,h = cv2.boundingRect(contours[0])                  \n",
        "        img = image[y:y+h,x:x+w]# crop image\n",
        "\n",
        "        resize=cv2.resize(img,(im_size,im_size)) # resize to im_size X im_size size\n",
        "        \n",
        "        return resize\n",
        "\n",
        "    return cv2.resize(image, (im_size,im_size))"
      ],
      "execution_count": 10,
      "outputs": []
    },
    {
      "cell_type": "code",
      "metadata": {
        "id": "m24dbI6tV4Cn",
        "colab_type": "code",
        "colab": {
          "base_uri": "https://localhost:8080/",
          "height": 156
        },
        "outputId": "0204484d-2a4f-4d4d-d40d-e5b9fee28261"
      },
      "source": [
        "X, y = data_augment(file_dir, category)"
      ],
      "execution_count": 11,
      "outputs": [
        {
          "output_type": "stream",
          "text": [
            "0\n",
            "100\n",
            "200\n",
            "300\n",
            "400\n",
            "500\n",
            "600\n",
            "Done\n"
          ],
          "name": "stdout"
        }
      ]
    },
    {
      "cell_type": "markdown",
      "metadata": {
        "id": "RbQEhMn7vnQ6",
        "colab_type": "text"
      },
      "source": [
        "CNN model"
      ]
    },
    {
      "cell_type": "code",
      "metadata": {
        "id": "U2tfc0g5wDpw",
        "colab_type": "code",
        "colab": {
          "base_uri": "https://localhost:8080/",
          "height": 35
        },
        "outputId": "c20a5324-2367-4d00-8c8d-68f442c9612a"
      },
      "source": [
        "import keras\n",
        "y_encoded = keras.utils.to_categorical(y, 4)\n",
        "X = X.astype('float32')\n",
        "X /= 255"
      ],
      "execution_count": 12,
      "outputs": [
        {
          "output_type": "stream",
          "text": [
            "Using TensorFlow backend.\n"
          ],
          "name": "stderr"
        }
      ]
    },
    {
      "cell_type": "code",
      "metadata": {
        "id": "0WazQBn5afn5",
        "colab_type": "code",
        "colab": {
          "base_uri": "https://localhost:8080/",
          "height": 350
        },
        "outputId": "49189117-c861-449c-f9a3-04b2c5f60306"
      },
      "source": [
        "import seaborn as sns\n",
        "data = pd.DataFrame(\n",
        "    data=(get_label(y[i]) for i in range(0, len(y))),    # values\n",
        "    columns=['eye condition']\n",
        ") \n",
        "\n",
        "input = sns.countplot(\n",
        "    data=data,\n",
        "    x = 'eye condition',\n",
        "    order = ['retina', 'glaucoma', 'cataract', 'normal']\n",
        ").set_title('Input Data')\n",
        "\n",
        "plt.savefig('Input Dataset')"
      ],
      "execution_count": 13,
      "outputs": [
        {
          "output_type": "stream",
          "text": [
            "/usr/local/lib/python3.6/dist-packages/statsmodels/tools/_testing.py:19: FutureWarning: pandas.util.testing is deprecated. Use the functions in the public API at pandas.testing instead.\n",
            "  import pandas.util.testing as tm\n"
          ],
          "name": "stderr"
        },
        {
          "output_type": "display_data",
          "data": {
            "image/png": "[encoded data removed]",
            "text/plain": [
              "<Figure size 432x288 with 1 Axes>"
            ]
          },
          "metadata": {
            "tags": [],
            "needs_background": "light"
          }
        }
      ]
    },
    {
      "cell_type": "code",
      "metadata": {
        "id": "3rPrNyykvo_x",
        "colab_type": "code",
        "colab": {}
      },
      "source": [
        "from sklearn.model_selection import train_test_split\n",
        "X_train, X_test, y_train, y_test = train_test_split(X, y_encoded, test_size=0.25, random_state=2)\n",
        "X_train, X_val, y_train, y_val = train_test_split(X_train, y_train, test_size=0.2, random_state=5)"
      ],
      "execution_count": 14,
      "outputs": []
    },
    {
      "cell_type": "code",
      "metadata": {
        "id": "VE-sCgYtmSrI",
        "colab_type": "code",
        "colab": {
          "base_uri": "https://localhost:8080/",
          "height": 295
        },
        "outputId": "9953bc0b-4bef-44bd-f562-edead26214d8"
      },
      "source": [
        "Y_train = np.argmax(y_train,axis = 1)\n",
        "data = pd.DataFrame(\n",
        "    data=(get_label(Y_train[i]) for i in range(0, len(Y_train))),    # values\n",
        "    columns=['eye condition']\n",
        ") \n",
        "\n",
        "training = sns.countplot(\n",
        "    data=data,\n",
        "    x = 'eye condition',\n",
        "    order = ['retina', 'glaucoma', 'cataract', 'normal']\n",
        ").set_title('Training Data')\n",
        "\n",
        "plt.savefig('Training Data')"
      ],
      "execution_count": 19,
      "outputs": [
        {
          "output_type": "display_data",
          "data": {
            "image/png": "[encoded data removed]",
            "text/plain": [
              "<Figure size 432x288 with 1 Axes>"
            ]
          },
          "metadata": {
            "tags": [],
            "needs_background": "light"
          }
        }
      ]
    },
    {
      "cell_type": "code",
      "metadata": {
        "colab_type": "code",
        "id": "PgKFfM5YnGYT",
        "colab": {
          "base_uri": "https://localhost:8080/",
          "height": 295
        },
        "outputId": "1b80e0d0-5bd8-4d3f-8261-5b5a0c7751f9"
      },
      "source": [
        "Y_test = np.argmax(y_test,axis = 1)\n",
        "data = pd.DataFrame(\n",
        "    data=(get_label(Y_test[i]) for i in range(0, len(Y_test))),    # values\n",
        "    columns=['eye condition']\n",
        ") \n",
        "\n",
        "training = sns.countplot(\n",
        "    data=data,\n",
        "    x = 'eye condition',\n",
        "    order = ['retina', 'glaucoma', 'cataract', 'normal']\n",
        ").set_title('Test Data')\n",
        "plt.savefig('Test Data')"
      ],
      "execution_count": 20,
      "outputs": [
        {
          "output_type": "display_data",
          "data": {
            "image/png": "[encoded data removed]",
            "text/plain": [
              "<Figure size 432x288 with 1 Axes>"
            ]
          },
          "metadata": {
            "tags": [],
            "needs_background": "light"
          }
        }
      ]
    },
    {
      "cell_type": "code",
      "metadata": {
        "id": "za75K4GsnTQP",
        "colab_type": "code",
        "colab": {
          "base_uri": "https://localhost:8080/",
          "height": 295
        },
        "outputId": "d949be5e-989c-4002-bd2c-863a8f71482e"
      },
      "source": [
        "Y_val = np.argmax(y_val,axis = 1)\n",
        "data = pd.DataFrame(\n",
        "    data=(get_label(Y_val[i]) for i in range(0, len(Y_val))),    # values\n",
        "    columns=['eye condition']\n",
        ") \n",
        "\n",
        "val = sns.countplot(\n",
        "    data=data,\n",
        "    x = 'eye condition',\n",
        "    order = ['retina', 'glaucoma', 'cataract', 'normal']\n",
        ").set_title('Validation Data')\n",
        "\n",
        "plt.savefig('Validation Data')"
      ],
      "execution_count": 17,
      "outputs": [
        {
          "output_type": "display_data",
          "data": {
            "image/png": "[encoded data removed]",
            "text/plain": [
              "<Figure size 432x288 with 1 Axes>"
            ]
          },
          "metadata": {
            "tags": [],
            "needs_background": "light"
          }
        }
      ]
    },
    {
      "cell_type": "code",
      "metadata": {
        "id": "FJpdE2Y80LB1",
        "colab_type": "code",
        "colab": {}
      },
      "source": [
        "from keras import layers\n",
        "from keras.layers import Conv2D, MaxPooling2D, Flatten, Dense, Dropout\n",
        "import keras"
      ],
      "execution_count": 21,
      "outputs": []
    },
    {
      "cell_type": "markdown",
      "metadata": {
        "id": "Y8FWNLhRvcIv",
        "colab_type": "text"
      },
      "source": [
        "To visualize results"
      ]
    },
    {
      "cell_type": "code",
      "metadata": {
        "id": "udJLGGFrvePn",
        "colab_type": "code",
        "colab": {}
      },
      "source": [
        "def visualize_results(history):\n",
        "\n",
        "    # Plot the accuracy and loss curves\n",
        "    \n",
        "    acc = history.history['accuracy']\n",
        "    val_acc = history.history['val_accuracy']\n",
        "    loss = history.history['loss']\n",
        "    val_loss = history.history['val_loss']\n",
        "    \n",
        "    epochs = range(len(acc))\n",
        "    \n",
        "    plt.plot(epochs, acc, 'b', label='Training acc')\n",
        "    plt.plot(epochs, val_acc, 'r', label='Validation acc')\n",
        "    plt.title('Training and validation accuracy')\n",
        "    \n",
        "    plt.legend()\n",
        "    \n",
        "    plt.figure()\n",
        "    plt.plot(epochs, loss, 'b', label='Training loss')\n",
        "    \n",
        "    plt.plot(epochs, val_loss, 'r', label='Validation loss')\n",
        "    \n",
        "    plt.title('Training and validation loss')\n",
        "    \n",
        "    plt.legend()\n",
        "    plt.show()\n",
        "    plt.savefig(f'{history}.png')"
      ],
      "execution_count": 22,
      "outputs": []
    },
    {
      "cell_type": "markdown",
      "metadata": {
        "id": "yspEovdEwE86",
        "colab_type": "text"
      },
      "source": [
        "Creating model using Keras"
      ]
    },
    {
      "cell_type": "code",
      "metadata": {
        "id": "ozkKAcvUyvvw",
        "colab_type": "code",
        "colab": {}
      },
      "source": [
        "trained_models = []"
      ],
      "execution_count": 23,
      "outputs": []
    },
    {
      "cell_type": "markdown",
      "metadata": {
        "id": "FbJpuEAqvBuB",
        "colab_type": "text"
      },
      "source": [
        "Model 1"
      ]
    },
    {
      "cell_type": "code",
      "metadata": {
        "id": "VLsGAiILwSlm",
        "colab_type": "code",
        "colab": {}
      },
      "source": [
        "from tensorflow.keras.applications.inception_v3 import InceptionV3\n",
        "from tensorflow.keras.preprocessing import image\n",
        "from tensorflow.keras.models import Model\n",
        "from tensorflow.keras.layers import Dense, GlobalAveragePooling2D"
      ],
      "execution_count": 24,
      "outputs": []
    },
    {
      "cell_type": "markdown",
      "metadata": {
        "id": "vFatuPTRy8Tu",
        "colab_type": "text"
      },
      "source": [
        "Model 2\n"
      ]
    },
    {
      "cell_type": "code",
      "metadata": {
        "id": "qvZGCJnCPtzr",
        "colab_type": "code",
        "colab": {
          "base_uri": "https://localhost:8080/",
          "height": 1000
        },
        "outputId": "624e6c41-3bbd-48a2-d9ed-d38f384e67d8"
      },
      "source": [
        "# create the base pre-trained model\n",
        "base_model = InceptionV3(weights='imagenet', include_top=False)\n",
        "\n",
        "# add a global spatial average pooling layer\n",
        "x = base_model.output\n",
        "x = GlobalAveragePooling2D()(x)\n",
        "# let's add a fully-connected layer\n",
        "x = Dense(1024, activation='relu')(x)\n",
        "# and a logistic layer -- let's say we have 200 classes\n",
        "predictions = Dense(4, activation='softmax')(x)\n",
        "\n",
        "# this is the model we will train\n",
        "model_2 = Model(inputs=base_model.input, outputs=predictions)\n",
        "\n",
        "# first: train only the top layers (which were randomly initialized)\n",
        "# i.e. freeze all convolutional InceptionV3 layers\n",
        "for layer in base_model.layers:\n",
        "    layer.trainable = False\n",
        "\n",
        "# compile the model (should be done *after* setting layers to non-trainable)\n",
        "model_2.compile(\n",
        "    optimizer='rmsprop',\n",
        "    loss='categorical_crossentropy',\n",
        "    metrics=['accuracy']\n",
        ")\n",
        "# model.summary()\n",
        "# train the model on the new data for a few epochs\n",
        "trained_model_1 = model_2.fit(\n",
        "    X_train,\n",
        "    y_train,\n",
        "    batch_size=32,\n",
        "    epochs=30, #number of iterations\n",
        "    validation_data=(X_val, y_val),\n",
        "    shuffle=True\n",
        ")"
      ],
      "execution_count": 25,
      "outputs": [
        {
          "output_type": "stream",
          "text": [
            "Downloading data from https://storage.googleapis.com/tensorflow/keras-applications/inception_v3/inception_v3_weights_tf_dim_ordering_tf_kernels_notop.h5\n",
            "87916544/87910968 [==============================] - 1s 0us/step\n",
            "Epoch 1/30\n",
            "79/79 [==============================] - 24s 304ms/step - loss: 1.7048 - accuracy: 0.5139 - val_loss: 0.9702 - val_accuracy: 0.6117\n",
            "Epoch 2/30\n",
            "79/79 [==============================] - 20s 253ms/step - loss: 0.9989 - accuracy: 0.5951 - val_loss: 0.9354 - val_accuracy: 0.6212\n",
            "Epoch 3/30\n",
            "79/79 [==============================] - 20s 259ms/step - loss: 0.8961 - accuracy: 0.6331 - val_loss: 0.9413 - val_accuracy: 0.6244\n",
            "Epoch 4/30\n",
            "79/79 [==============================] - 20s 253ms/step - loss: 0.8325 - accuracy: 0.6525 - val_loss: 0.7844 - val_accuracy: 0.6545\n",
            "Epoch 5/30\n",
            "79/79 [==============================] - 20s 254ms/step - loss: 0.7761 - accuracy: 0.6767 - val_loss: 0.7199 - val_accuracy: 0.7036\n",
            "Epoch 6/30\n",
            "79/79 [==============================] - 20s 250ms/step - loss: 0.7112 - accuracy: 0.7084 - val_loss: 0.8825 - val_accuracy: 0.6751\n",
            "Epoch 7/30\n",
            "79/79 [==============================] - 20s 252ms/step - loss: 0.6648 - accuracy: 0.7389 - val_loss: 0.6292 - val_accuracy: 0.7575\n",
            "Epoch 8/30\n",
            "79/79 [==============================] - 20s 251ms/step - loss: 0.6080 - accuracy: 0.7643 - val_loss: 0.6470 - val_accuracy: 0.7480\n",
            "Epoch 9/30\n",
            "79/79 [==============================] - 20s 254ms/step - loss: 0.5482 - accuracy: 0.7769 - val_loss: 0.6024 - val_accuracy: 0.7575\n",
            "Epoch 10/30\n",
            "79/79 [==============================] - 20s 254ms/step - loss: 0.5167 - accuracy: 0.7995 - val_loss: 1.0675 - val_accuracy: 0.6624\n",
            "Epoch 11/30\n",
            "79/79 [==============================] - 20s 247ms/step - loss: 0.4738 - accuracy: 0.8177 - val_loss: 0.6478 - val_accuracy: 0.7591\n",
            "Epoch 12/30\n",
            "79/79 [==============================] - 20s 248ms/step - loss: 0.4316 - accuracy: 0.8273 - val_loss: 0.6983 - val_accuracy: 0.7211\n",
            "Epoch 13/30\n",
            "79/79 [==============================] - 20s 251ms/step - loss: 0.3709 - accuracy: 0.8613 - val_loss: 0.5367 - val_accuracy: 0.8019\n",
            "Epoch 14/30\n",
            "79/79 [==============================] - 20s 256ms/step - loss: 0.3510 - accuracy: 0.8732 - val_loss: 0.5397 - val_accuracy: 0.8209\n",
            "Epoch 15/30\n",
            "79/79 [==============================] - 20s 253ms/step - loss: 0.3170 - accuracy: 0.8827 - val_loss: 0.5753 - val_accuracy: 0.7591\n",
            "Epoch 16/30\n",
            "79/79 [==============================] - 20s 256ms/step - loss: 0.2756 - accuracy: 0.8978 - val_loss: 0.5241 - val_accuracy: 0.8304\n",
            "Epoch 17/30\n",
            "79/79 [==============================] - 20s 253ms/step - loss: 0.2466 - accuracy: 0.9148 - val_loss: 0.3535 - val_accuracy: 0.8558\n",
            "Epoch 18/30\n",
            "79/79 [==============================] - 20s 253ms/step - loss: 0.2318 - accuracy: 0.9176 - val_loss: 0.7212 - val_accuracy: 0.7655\n",
            "Epoch 19/30\n",
            "79/79 [==============================] - 20s 248ms/step - loss: 0.2122 - accuracy: 0.9267 - val_loss: 0.3243 - val_accuracy: 0.8986\n",
            "Epoch 20/30\n",
            "79/79 [==============================] - 20s 251ms/step - loss: 0.1810 - accuracy: 0.9386 - val_loss: 0.3686 - val_accuracy: 0.8875\n",
            "Epoch 21/30\n",
            "79/79 [==============================] - 20s 253ms/step - loss: 0.1686 - accuracy: 0.9414 - val_loss: 0.5931 - val_accuracy: 0.7813\n",
            "Epoch 22/30\n",
            "79/79 [==============================] - 20s 249ms/step - loss: 0.1573 - accuracy: 0.9465 - val_loss: 0.3110 - val_accuracy: 0.9033\n",
            "Epoch 23/30\n",
            "79/79 [==============================] - 20s 252ms/step - loss: 0.1363 - accuracy: 0.9580 - val_loss: 0.3402 - val_accuracy: 0.8986\n",
            "Epoch 24/30\n",
            "79/79 [==============================] - 20s 250ms/step - loss: 0.1455 - accuracy: 0.9513 - val_loss: 0.2689 - val_accuracy: 0.9176\n",
            "Epoch 25/30\n",
            "79/79 [==============================] - 20s 256ms/step - loss: 0.1138 - accuracy: 0.9663 - val_loss: 0.3461 - val_accuracy: 0.8938\n",
            "Epoch 26/30\n",
            "79/79 [==============================] - 20s 248ms/step - loss: 0.1140 - accuracy: 0.9647 - val_loss: 0.5504 - val_accuracy: 0.8463\n",
            "Epoch 27/30\n",
            "79/79 [==============================] - 20s 247ms/step - loss: 0.1039 - accuracy: 0.9671 - val_loss: 0.4693 - val_accuracy: 0.8146\n",
            "Epoch 28/30\n",
            "79/79 [==============================] - 20s 249ms/step - loss: 0.1048 - accuracy: 0.9683 - val_loss: 0.3131 - val_accuracy: 0.9176\n",
            "Epoch 29/30\n",
            "79/79 [==============================] - 20s 254ms/step - loss: 0.0870 - accuracy: 0.9719 - val_loss: 0.5379 - val_accuracy: 0.8574\n",
            "Epoch 30/30\n",
            "79/79 [==============================] - 21s 260ms/step - loss: 0.0982 - accuracy: 0.9731 - val_loss: 0.2571 - val_accuracy: 0.9303\n"
          ],
          "name": "stdout"
        }
      ]
    },
    {
      "cell_type": "code",
      "metadata": {
        "id": "7_lh6sHXxtqD",
        "colab_type": "code",
        "colab": {
          "base_uri": "https://localhost:8080/",
          "height": 597
        },
        "outputId": "c93eb191-bd83-4f78-c85a-84985a1c1aa5"
      },
      "source": [
        "_, accuracy = model_2.evaluate(X_test, y_test)\n",
        "print(f'The model accuracy is {accuracy}')\n",
        "visualize_results(trained_model_1)"
      ],
      "execution_count": 26,
      "outputs": [
        {
          "output_type": "stream",
          "text": [
            "33/33 [==============================] - 7s 199ms/step - loss: 0.2327 - accuracy: 0.9430\n",
            "The model accuracy is 0.9429658055305481\n"
          ],
          "name": "stdout"
        },
        {
          "output_type": "display_data",
          "data": {
            "image/png": "[encoded data removed]",
            "text/plain": [
              "<Figure size 432x288 with 1 Axes>"
            ]
          },
          "metadata": {
            "tags": [],
            "needs_background": "light"
          }
        },
        {
          "output_type": "display_data",
          "data": {
            "image/png": "[encoded data removed]",
            "text/plain": [
              "<Figure size 432x288 with 1 Axes>"
            ]
          },
          "metadata": {
            "tags": [],
            "needs_background": "light"
          }
        },
        {
          "output_type": "display_data",
          "data": {
            "text/plain": [
              "<Figure size 432x288 with 0 Axes>"
            ]
          },
          "metadata": {
            "tags": []
          }
        }
      ]
    },
    {
      "cell_type": "code",
      "metadata": {
        "id": "YuCXT0KSU26g",
        "colab_type": "code",
        "colab": {
          "base_uri": "https://localhost:8080/",
          "height": 553
        },
        "outputId": "60c0e92d-1f42-4268-d2c5-760cfd674fd6"
      },
      "source": [
        "from sklearn.metrics import confusion_matrix\n",
        "prediction = model_2.predict(X_test)\n",
        "Y_pred_classes = np.argmax(prediction,axis = 1)\n",
        "\n",
        "# Convert validation observations to one hot vectors\n",
        "Y_true = np.argmax(y_test,axis = 1)\n",
        "# compute the confusion matrix\n",
        "confusion_mtx = confusion_matrix(Y_true, Y_pred_classes) \n",
        "\n",
        "print(confusion_mtx)\n",
        "\n",
        "import seaborn as sns\n",
        "plt.figure(figsize=(10,8))\n",
        "sns.heatmap(confusion_mtx, annot=True, fmt=\"d\")\n",
        "plt.savefig(\"trained_model_1_cm.png\")"
      ],
      "execution_count": 27,
      "outputs": [
        {
          "output_type": "stream",
          "text": [
            "[[515   5   7   3]\n",
            " [  2 179   1   0]\n",
            " [ 16   3 141   6]\n",
            " [ 14   3   0 157]]\n"
          ],
          "name": "stdout"
        },
        {
          "output_type": "display_data",
          "data": {
            "image/png": "[encoded data removed]",
            "text/plain": [
              "<Figure size 720x576 with 2 Axes>"
            ]
          },
          "metadata": {
            "tags": [],
            "needs_background": "light"
          }
        }
      ]
    },
    {
      "cell_type": "markdown",
      "metadata": {
        "id": "oZcxVt62X_gm",
        "colab_type": "text"
      },
      "source": [
        "Model 3"
      ]
    },
    {
      "cell_type": "code",
      "metadata": {
        "id": "R0oRk27KNqsa",
        "colab_type": "code",
        "colab": {
          "base_uri": "https://localhost:8080/",
          "height": 884
        },
        "outputId": "a638918f-41e4-45c3-c761-0514f3408408"
      },
      "source": [
        "# create the base pre-trained model\n",
        "base_model = InceptionV3(weights='imagenet', include_top=False)\n",
        "\n",
        "# add a global spatial average pooling layer\n",
        "x = base_model.output\n",
        "x = GlobalAveragePooling2D()(x)\n",
        "# let's add a fully-connected layer\n",
        "x = Dense(1024, activation='relu')(x)\n",
        "# and a logistic layer -- let's say we have 200 classes\n",
        "predictions = Dense(4, activation='softmax')(x)\n",
        "\n",
        "model_3 = Model(inputs=base_model.input, outputs=predictions)\n",
        "\n",
        "# we chose to train the top 2 inception blocks, i.e. we will freeze\n",
        "# the first 249 layers and unfreeze the rest:\n",
        "for layer in model_3.layers[:249]:\n",
        "   layer.trainable = False\n",
        "for layer in model_3.layers[249:]:\n",
        "   layer.trainable = True\n",
        "\n",
        "\n",
        "# we use SGD with a low learning rate\n",
        "from tensorflow.keras.optimizers import SGD\n",
        "model_3.compile(optimizer=SGD(lr=0.0001, momentum=0.9), loss='categorical_crossentropy', metrics=['accuracy'])\n",
        "\n",
        "trained_model_2 = model_3.fit(\n",
        "    X_train,\n",
        "    y_train,\n",
        "    batch_size=32,\n",
        "    epochs=25, #number of iterations\n",
        "    validation_data=(X_val, y_val),\n",
        "    shuffle=True\n",
        ")"
      ],
      "execution_count": 31,
      "outputs": [
        {
          "output_type": "stream",
          "text": [
            "Epoch 1/25\n",
            "79/79 [==============================] - 25s 320ms/step - loss: 1.2036 - accuracy: 0.4853 - val_loss: 1.1743 - val_accuracy: 0.5087\n",
            "Epoch 2/25\n",
            "79/79 [==============================] - 24s 302ms/step - loss: 1.0377 - accuracy: 0.5717 - val_loss: 1.0342 - val_accuracy: 0.5642\n",
            "Epoch 3/25\n",
            "79/79 [==============================] - 24s 301ms/step - loss: 0.9379 - accuracy: 0.6082 - val_loss: 0.9347 - val_accuracy: 0.6260\n",
            "Epoch 4/25\n",
            "79/79 [==============================] - 24s 304ms/step - loss: 0.8567 - accuracy: 0.6513 - val_loss: 0.8651 - val_accuracy: 0.6529\n",
            "Epoch 5/25\n",
            "79/79 [==============================] - 24s 304ms/step - loss: 0.7842 - accuracy: 0.6870 - val_loss: 0.8101 - val_accuracy: 0.6815\n",
            "Epoch 6/25\n",
            "79/79 [==============================] - 24s 304ms/step - loss: 0.7242 - accuracy: 0.7302 - val_loss: 0.7607 - val_accuracy: 0.7116\n",
            "Epoch 7/25\n",
            "79/79 [==============================] - 23s 296ms/step - loss: 0.6638 - accuracy: 0.7559 - val_loss: 0.7141 - val_accuracy: 0.7512\n",
            "Epoch 8/25\n",
            "79/79 [==============================] - 24s 298ms/step - loss: 0.6001 - accuracy: 0.7987 - val_loss: 0.6683 - val_accuracy: 0.7655\n",
            "Epoch 9/25\n",
            "79/79 [==============================] - 24s 302ms/step - loss: 0.5432 - accuracy: 0.8320 - val_loss: 0.6185 - val_accuracy: 0.8019\n",
            "Epoch 10/25\n",
            "79/79 [==============================] - 24s 309ms/step - loss: 0.4859 - accuracy: 0.8697 - val_loss: 0.5711 - val_accuracy: 0.8146\n",
            "Epoch 11/25\n",
            "79/79 [==============================] - 24s 309ms/step - loss: 0.4314 - accuracy: 0.8914 - val_loss: 0.5271 - val_accuracy: 0.8399\n",
            "Epoch 12/25\n",
            "79/79 [==============================] - 24s 309ms/step - loss: 0.3859 - accuracy: 0.9109 - val_loss: 0.4880 - val_accuracy: 0.8542\n",
            "Epoch 13/25\n",
            "79/79 [==============================] - 24s 299ms/step - loss: 0.3318 - accuracy: 0.9326 - val_loss: 0.4517 - val_accuracy: 0.8780\n",
            "Epoch 14/25\n",
            "79/79 [==============================] - 24s 306ms/step - loss: 0.2985 - accuracy: 0.9441 - val_loss: 0.4195 - val_accuracy: 0.8843\n",
            "Epoch 15/25\n",
            "79/79 [==============================] - 24s 303ms/step - loss: 0.2644 - accuracy: 0.9548 - val_loss: 0.3878 - val_accuracy: 0.8875\n",
            "Epoch 16/25\n",
            "79/79 [==============================] - 24s 305ms/step - loss: 0.2357 - accuracy: 0.9643 - val_loss: 0.3672 - val_accuracy: 0.8938\n",
            "Epoch 17/25\n",
            "79/79 [==============================] - 24s 309ms/step - loss: 0.2031 - accuracy: 0.9719 - val_loss: 0.3432 - val_accuracy: 0.8954\n",
            "Epoch 18/25\n",
            "79/79 [==============================] - 24s 302ms/step - loss: 0.1803 - accuracy: 0.9786 - val_loss: 0.3265 - val_accuracy: 0.9097\n",
            "Epoch 19/25\n",
            "79/79 [==============================] - 24s 304ms/step - loss: 0.1696 - accuracy: 0.9778 - val_loss: 0.3086 - val_accuracy: 0.9128\n",
            "Epoch 20/25\n",
            "79/79 [==============================] - 24s 299ms/step - loss: 0.1458 - accuracy: 0.9865 - val_loss: 0.2973 - val_accuracy: 0.9160\n",
            "Epoch 21/25\n",
            "79/79 [==============================] - 23s 296ms/step - loss: 0.1348 - accuracy: 0.9873 - val_loss: 0.2892 - val_accuracy: 0.9208\n",
            "Epoch 22/25\n",
            "79/79 [==============================] - 24s 302ms/step - loss: 0.1206 - accuracy: 0.9893 - val_loss: 0.2808 - val_accuracy: 0.9223\n",
            "Epoch 23/25\n",
            "79/79 [==============================] - 25s 313ms/step - loss: 0.1057 - accuracy: 0.9917 - val_loss: 0.2714 - val_accuracy: 0.9208\n",
            "Epoch 24/25\n",
            "79/79 [==============================] - 25s 311ms/step - loss: 0.1009 - accuracy: 0.9913 - val_loss: 0.2631 - val_accuracy: 0.9239\n",
            "Epoch 25/25\n",
            "79/79 [==============================] - 24s 305ms/step - loss: 0.0903 - accuracy: 0.9945 - val_loss: 0.2596 - val_accuracy: 0.9176\n"
          ],
          "name": "stdout"
        }
      ]
    },
    {
      "cell_type": "code",
      "metadata": {
        "id": "2cjAz1-x04LM",
        "colab_type": "code",
        "colab": {}
      },
      "source": [
        "prediction = model_3.predict(X_test)"
      ],
      "execution_count": 32,
      "outputs": []
    },
    {
      "cell_type": "markdown",
      "metadata": {
        "id": "C2UMQL8c6JL3",
        "colab_type": "text"
      },
      "source": [
        "Predict classes, and check actual values"
      ]
    },
    {
      "cell_type": "code",
      "metadata": {
        "id": "EuVY-JVSQmHk",
        "colab_type": "code",
        "colab": {
          "base_uri": "https://localhost:8080/",
          "height": 597
        },
        "outputId": "2c60d340-a244-4eea-e2d6-acb96b0df900"
      },
      "source": [
        "_, accuracy = model_3.evaluate(X_test, y_test)\n",
        "print(f'The model accuracy is {accuracy}')\n",
        "visualize_results(trained_model_2)"
      ],
      "execution_count": 33,
      "outputs": [
        {
          "output_type": "stream",
          "text": [
            "33/33 [==============================] - 6s 195ms/step - loss: 0.2783 - accuracy: 0.9154\n",
            "The model accuracy is 0.9153992533683777\n"
          ],
          "name": "stdout"
        },
        {
          "output_type": "display_data",
          "data": {
            "image/png": "[encoded data removed]",
            "text/plain": [
              "<Figure size 432x288 with 1 Axes>"
            ]
          },
          "metadata": {
            "tags": [],
            "needs_background": "light"
          }
        },
        {
          "output_type": "display_data",
          "data": {
            "image/png": "[encoded data removed]",
            "text/plain": [
              "<Figure size 432x288 with 1 Axes>"
            ]
          },
          "metadata": {
            "tags": [],
            "needs_background": "light"
          }
        },
        {
          "output_type": "display_data",
          "data": {
            "text/plain": [
              "<Figure size 432x288 with 0 Axes>"
            ]
          },
          "metadata": {
            "tags": []
          }
        }
      ]
    },
    {
      "cell_type": "code",
      "metadata": {
        "id": "mQCwtclc6Oxt",
        "colab_type": "code",
        "colab": {
          "base_uri": "https://localhost:8080/",
          "height": 501
        },
        "outputId": "888fc311-fda0-47bf-c576-f65641003ee8"
      },
      "source": [
        "from sklearn.metrics import confusion_matrix\n",
        "Y_pred_classes = np.argmax(prediction,axis = 1) \n",
        "# Convert validation observations to one hot vectors\n",
        "Y_true = np.argmax(y_test,axis = 1) \n",
        "# compute the confusion matrix\n",
        "confusion_mtx = confusion_matrix(Y_true, Y_pred_classes) \n",
        "\n",
        "import seaborn as sns\n",
        "plt.figure(figsize=(10,8))\n",
        "sns.heatmap(confusion_mtx, annot=True, fmt=\"d\")"
      ],
      "execution_count": 34,
      "outputs": [
        {
          "output_type": "execute_result",
          "data": {
            "text/plain": [
              "<matplotlib.axes._subplots.AxesSubplot at 0x7f8ecf955208>"
            ]
          },
          "metadata": {
            "tags": []
          },
          "execution_count": 34
        },
        {
          "output_type": "display_data",
          "data": {
            "image/png": "[encoded data removed]",
            "text/plain": [
              "<Figure size 720x576 with 2 Axes>"
            ]
          },
          "metadata": {
            "tags": [],
            "needs_background": "light"
          }
        }
      ]
    },
    {
      "cell_type": "markdown",
      "metadata": {
        "id": "08zH0o8GdWJQ",
        "colab_type": "text"
      },
      "source": [
        "    Model 4"
      ]
    },
    {
      "cell_type": "code",
      "metadata": {
        "id": "9xlBZMVgeD1N",
        "colab_type": "code",
        "colab": {
          "base_uri": "https://localhost:8080/",
          "height": 225
        },
        "outputId": "ef9e9bd2-7f88-4e0b-fcab-a0999cbc09a9"
      },
      "source": [
        "import math\n",
        "from tensorflow.keras import optimizers\n",
        "# create the base pre-trained model\n",
        "base_model = InceptionV3(weights='imagenet', include_top=False)\n",
        "\n",
        "# add a global spatial average pooling layer\n",
        "x = base_model.output\n",
        "x = GlobalAveragePooling2D()(x)\n",
        "# let's add a fully-connected layer\n",
        "x = Dense(1024, activation='relu')(x)\n",
        "# and a logistic layer -- let's say we have 200 classes\n",
        "predictions = Dense(4, activation='softmax')(x)\n",
        "\n",
        "model_4 = Model(inputs=base_model.input, outputs=predictions)\n",
        "\n",
        "# we chose to train the top 2 inception blocks, i.e. we will freeze\n",
        "# the first 249 layers and unfreeze the rest:\n",
        "for layer in model_4.layers[:249]:\n",
        "   layer.trainable = False\n",
        "for layer in model_4.layers[249:]:\n",
        "   layer.trainable = True\n",
        "\n",
        "lr_schedule = optimizers.schedules.ExponentialDecay(\n",
        "    initial_learning_rate=1e-2,\n",
        "    decay_steps=10000,\n",
        "    decay_rate=0.9)\n",
        "optimizer = optimizers.SGD(learning_rate=lr_schedule)\n",
        "\n",
        "# we use SGD with a low learning rate\n",
        "from tensorflow.keras.optimizers import SGD\n",
        "model_4.compile(optimizer=optimizer, loss='categorical_crossentropy', metrics=['accuracy'])\n",
        "\n",
        "trained_model_3 = model_4.fit(\n",
        "    X_train,\n",
        "    y_train,\n",
        "    batch_size=32,\n",
        "    steps_per_epoch=72,\n",
        "    epochs=6, #number of iterations\n",
        "    validation_data=(X_val, y_val),\n",
        "    shuffle=True\n",
        ")\n"
      ],
      "execution_count": 49,
      "outputs": [
        {
          "output_type": "stream",
          "text": [
            "Epoch 1/6\n",
            "72/72 [==============================] - 23s 326ms/step - loss: 0.9096 - accuracy: 0.6445 - val_loss: 1.0729 - val_accuracy: 0.5578\n",
            "Epoch 2/6\n",
            "72/72 [==============================] - 22s 305ms/step - loss: 0.4547 - accuracy: 0.8557 - val_loss: 0.6749 - val_accuracy: 0.7464\n",
            "Epoch 3/6\n",
            "72/72 [==============================] - 22s 305ms/step - loss: 0.1971 - accuracy: 0.9591 - val_loss: 0.3211 - val_accuracy: 0.9081\n",
            "Epoch 4/6\n",
            "72/72 [==============================] - 22s 305ms/step - loss: 0.0816 - accuracy: 0.9904 - val_loss: 0.2414 - val_accuracy: 0.9271\n",
            "Epoch 5/6\n",
            "72/72 [==============================] - 22s 304ms/step - loss: 0.0375 - accuracy: 0.9974 - val_loss: 0.2127 - val_accuracy: 0.9382\n",
            "Epoch 6/6\n",
            "72/72 [==============================] - 22s 305ms/step - loss: 0.0218 - accuracy: 0.9991 - val_loss: 0.1974 - val_accuracy: 0.9350\n"
          ],
          "name": "stdout"
        }
      ]
    },
    {
      "cell_type": "code",
      "metadata": {
        "id": "R2u9N-U0dG_Y",
        "colab_type": "code",
        "colab": {}
      },
      "source": [
        "prediction = model_4.predict(X_test)"
      ],
      "execution_count": 50,
      "outputs": []
    },
    {
      "cell_type": "code",
      "metadata": {
        "id": "foKNy-pKdK5K",
        "colab_type": "code",
        "colab": {
          "base_uri": "https://localhost:8080/",
          "height": 597
        },
        "outputId": "ddedb86c-5ff0-4fd6-f9b8-8631a7aaa5dd"
      },
      "source": [
        "_, accuracy = model_3.evaluate(X_test, y_test)\n",
        "print(f'The model accuracy is {accuracy}')\n",
        "visualize_results(trained_model_2)"
      ],
      "execution_count": 51,
      "outputs": [
        {
          "output_type": "stream",
          "text": [
            "33/33 [==============================] - 6s 196ms/step - loss: 0.2783 - accuracy: 0.9154\n",
            "The model accuracy is 0.9153992533683777\n"
          ],
          "name": "stdout"
        },
        {
          "output_type": "display_data",
          "data": {
            "image/png": "[encoded data removed]",
            "text/plain": [
              "<Figure size 432x288 with 1 Axes>"
            ]
          },
          "metadata": {
            "tags": [],
            "needs_background": "light"
          }
        },
        {
          "output_type": "display_data",
          "data": {
            "image/png": "[encoded data removed]",
            "text/plain": [
              "<Figure size 432x288 with 1 Axes>"
            ]
          },
          "metadata": {
            "tags": [],
            "needs_background": "light"
          }
        },
        {
          "output_type": "display_data",
          "data": {
            "text/plain": [
              "<Figure size 432x288 with 0 Axes>"
            ]
          },
          "metadata": {
            "tags": []
          }
        }
      ]
    },
    {
      "cell_type": "code",
      "metadata": {
        "id": "1z8h22EadLu6",
        "colab_type": "code",
        "colab": {
          "base_uri": "https://localhost:8080/",
          "height": 501
        },
        "outputId": "689724b4-8ce7-48e1-c5d6-225c0233ddab"
      },
      "source": [
        "from sklearn.metrics import confusion_matrix\n",
        "Y_pred_classes = np.argmax(prediction,axis = 1) \n",
        "# Convert validation observations to one hot vectors\n",
        "Y_true = np.argmax(y_test,axis = 1) \n",
        "# compute the confusion matrix\n",
        "confusion_mtx = confusion_matrix(Y_true, Y_pred_classes) \n",
        "\n",
        "import seaborn as sns\n",
        "plt.figure(figsize=(10,8))\n",
        "sns.heatmap(confusion_mtx, annot=True, fmt=\"d\")"
      ],
      "execution_count": 52,
      "outputs": [
        {
          "output_type": "execute_result",
          "data": {
            "text/plain": [
              "<matplotlib.axes._subplots.AxesSubplot at 0x7f8ebed2e080>"
            ]
          },
          "metadata": {
            "tags": []
          },
          "execution_count": 52
        },
        {
          "output_type": "display_data",
          "data": {
            "image/png": "[encoded data removed]",
            "text/plain": [
              "<Figure size 720x576 with 2 Axes>"
            ]
          },
          "metadata": {
            "tags": [],
            "needs_background": "light"
          }
        }
      ]
    }
  ]
}