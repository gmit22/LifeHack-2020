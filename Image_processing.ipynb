{
  "nbformat": 4,
  "nbformat_minor": 0,
  "metadata": {
    "colab": {
      "name": "Image processing",
      "provenance": [],
      "collapsed_sections": [],
      "include_colab_link": true
    },
    "kernelspec": {
      "name": "python3",
      "display_name": "Python 3"
    },
    "accelerator": "GPU"
  },
  "cells": [
    {
      "cell_type": "markdown",
      "metadata": {
        "id": "view-in-github",
        "colab_type": "text"
      },
      "source": [
        "<a href=\"https://colab.research.google.com/github/gmit22/LifeHack-2020/blob/master/Image_processing.ipynb\" target=\"_parent\"><img src=\"https://colab.research.google.com/assets/colab-badge.svg\" alt=\"Open In Colab\"/></a>"
      ]
    },
    {
      "cell_type": "code",
      "metadata": {
        "id": "7TYbFSrULqtQ",
        "colab_type": "code",
        "colab": {}
      },
      "source": [
        "import os\n",
        "from io import BytesIO\n",
        "from PIL import Image\n",
        "import matplotlib.pyplot as plt\n",
        "import cv2\n",
        "import numpy as np\n",
        "from sklearn.utils import shuffle\n",
        "import imutils"
      ],
      "execution_count": null,
      "outputs": []
    },
    {
      "cell_type": "code",
      "metadata": {
        "id": "tB7XxAOMPE84",
        "colab_type": "code",
        "colab": {
          "base_uri": "https://localhost:8080/",
          "height": 35
        },
        "outputId": "b1b9c75d-9b84-4a0c-f679-2789f55e7c55"
      },
      "source": [
        "from google.colab import drive\n",
        "drive.mount('/content/drive')\n",
        "\n",
        "file = open(\"/content/drive/My Drive/LifeHack/data.txt\", \"w\")\n"
      ],
      "execution_count": null,
      "outputs": [
        {
          "output_type": "stream",
          "text": [
            "Drive already mounted at /content/drive; to attempt to forcibly remount, call drive.mount(\"/content/drive\", force_remount=True).\n"
          ],
          "name": "stdout"
        }
      ]
    },
    {
      "cell_type": "code",
      "metadata": {
        "id": "UiomMaM1uyb4",
        "colab_type": "code",
        "colab": {
          "base_uri": "https://localhost:8080/",
          "height": 35
        },
        "outputId": "a4d73597-6b49-4b46-80f0-a0f9e16c6366"
      },
      "source": [
        "from google.colab import drive\n",
        "drive.mount('/content/drive')"
      ],
      "execution_count": null,
      "outputs": [
        {
          "output_type": "stream",
          "text": [
            "Drive already mounted at /content/drive; to attempt to forcibly remount, call drive.mount(\"/content/drive\", force_remount=True).\n"
          ],
          "name": "stdout"
        }
      ]
    },
    {
      "cell_type": "code",
      "metadata": {
        "id": "r_IR9FOHA3eL",
        "colab_type": "code",
        "colab": {}
      },
      "source": [
        "dir = os.path.join(os.getcwd(), \"drive/My Drive/data\")"
      ],
      "execution_count": null,
      "outputs": []
    },
    {
      "cell_type": "code",
      "metadata": {
        "id": "fkA7w0YLMARY",
        "colab_type": "code",
        "colab": {}
      },
      "source": [
        "def loadData(dir):\n",
        "\n",
        "    images = []\n",
        "    category = []\n",
        "    file_dir = []\n",
        "\n",
        "    for img in os.listdir(dir):\n",
        "\n",
        "        if img.endswith(\".png\"):\n",
        "        #images.append(cv2.imread(os.path.join(dir, img)))\n",
        "            file_dir.append(os.path.join(dir, img))\n",
        "\n",
        "            if img.startswith('NL'):      #assigning label to file according to          \n",
        "                category.append(0)             # their type\n",
        "\n",
        "            elif img.startswith('ca'):    \n",
        "                category.append(1)\n",
        "\n",
        "            elif img.startswith('Gl'):  \n",
        "                category.append(2)\n",
        "\n",
        "            elif img.startswith('Re'):          \n",
        "                category.append(3)\n",
        "\n",
        "    file_dir = np.array(file_dir)\n",
        "    category = np.array(category, dtype = 'int32')  \n",
        "\n",
        "    return shuffle(file_dir, category,random_state=817328462)\n"
      ],
      "execution_count": null,
      "outputs": []
    },
    {
      "cell_type": "code",
      "metadata": {
        "id": "vu9nYwnu6pGt",
        "colab_type": "code",
        "colab": {}
      },
      "source": [
        "file_dir, category = loadData(dir)"
      ],
      "execution_count": null,
      "outputs": []
    },
    {
      "cell_type": "code",
      "metadata": {
        "id": "kvy05Ni1VnVd",
        "colab_type": "code",
        "colab": {
          "base_uri": "https://localhost:8080/",
          "height": 35
        },
        "outputId": "a187fc26-d659-4b08-a596-33274385838a"
      },
      "source": [
        "print(len(file_dir))"
      ],
      "execution_count": null,
      "outputs": [
        {
          "output_type": "stream",
          "text": [
            "601\n"
          ],
          "name": "stdout"
        }
      ]
    },
    {
      "cell_type": "code",
      "metadata": {
        "id": "-buEv2QNg3CS",
        "colab_type": "code",
        "colab": {}
      },
      "source": [
        "def get_label(encoded_val):\n",
        "      \n",
        "      labels = {0:'normal', 1:'cataract', 2:'glaucoma', 3:'retina'}\n",
        "      return labels[class_code]"
      ],
      "execution_count": null,
      "outputs": []
    },
    {
      "cell_type": "code",
      "metadata": {
        "id": "YNg0Ccm9_Hzu",
        "colab_type": "code",
        "colab": {}
      },
      "source": [
        "def data_augment(file_dir, labels):\n",
        "\n",
        "    img_set = []\n",
        "    lbl_set = []\n",
        "\n",
        "    for i in range(len(file_dir)):\n",
        "\n",
        "        if i%100==0:\n",
        "            print(i)\n",
        "        label = labels[i]\n",
        "        img = get_object(file_dir[i])\n",
        "\n",
        "        img_b = img + 0.07*img\n",
        "        img_d = img - 0.07*img\n",
        "\n",
        "        flip_v_b = cv2.flip(img_b,0)\n",
        "        flip_h_b = cv2.flip(img_b,1)\n",
        "\n",
        "        flip_v_d = cv2.flip(img_d,0)\n",
        "        flip_h_d = cv2.flip(img_d,1)\n",
        "\n",
        "        flip_v = cv2.flip(img,0) #vertical flip\n",
        "        flip_h = cv2.flip(img,1) #lr flip\n",
        "\n",
        "        img_set.append(img)\n",
        "        # img_set.append(img_b)\n",
        "        # img_set.append(img_d)\n",
        "        img_set.append(flip_v)\n",
        "        img_set.append(flip_h)\n",
        "        img_set.append(flip_v_b)\n",
        "        img_set.append(flip_h_b)\n",
        "        img_set.append(flip_v_d)\n",
        "        img_set.append(flip_h_d)\n",
        "\n",
        "        # lbl_set.append(label)\n",
        "        # lbl_set.append(label)\n",
        "        lbl_set.append(label)\n",
        "        lbl_set.append(label)\n",
        "        lbl_set.append(label)\n",
        "        lbl_set.append(label)\n",
        "        lbl_set.append(label)\n",
        "        lbl_set.append(label)\n",
        "        lbl_set.append(label)\n",
        "    print('Done')\n",
        "    return np.array(img_set),np.array(lbl_set)\n"
      ],
      "execution_count": null,
      "outputs": []
    },
    {
      "cell_type": "code",
      "metadata": {
        "id": "uM9v6y0RLq51",
        "colab_type": "code",
        "colab": {}
      },
      "source": [
        "def get_object(filename):\n",
        "\n",
        "    image = cv2.imread(filename)\n",
        "    im_size = 256\n",
        "    \n",
        "    gray = cv2.cvtColor(image,cv2.COLOR_BGR2GRAY) # convert 2 grayscale\n",
        "\n",
        "    retval, threshold = cv2.threshold(gray,10,255,cv2.THRESH_BINARY+cv2.THRESH_OTSU)\n",
        "    contours, hierarchy = cv2.findContours(threshold,cv2.RETR_EXTERNAL,cv2.CHAIN_APPROX_SIMPLE) # find contours\n",
        "\n",
        "    # ensure at least some circles were found\n",
        "    if contours:\n",
        "\n",
        "        contours = sorted(contours, key=cv2.contourArea, reverse=True) \n",
        "\n",
        "        #find the bounding rect\n",
        "        x,y,w,h = cv2.boundingRect(contours[0])                  \n",
        "        img = image[y:y+h,x:x+w]# crop image\n",
        "\n",
        "        resize=cv2.resize(img,(im_size,im_size)) # resize to im_size X im_size size\n",
        "        \n",
        "        return resize\n",
        "\n",
        "    return cv2.resize(image, (im_size,im_size))"
      ],
      "execution_count": null,
      "outputs": []
    },
    {
      "cell_type": "code",
      "metadata": {
        "id": "m24dbI6tV4Cn",
        "colab_type": "code",
        "colab": {
          "base_uri": "https://localhost:8080/",
          "height": 156
        },
        "outputId": "fc0bb820-ce8a-466d-c0bd-d07180707d43"
      },
      "source": [
        "X, y = data_augment(file_dir, category)"
      ],
      "execution_count": null,
      "outputs": [
        {
          "output_type": "stream",
          "text": [
            "0\n",
            "100\n",
            "200\n",
            "300\n",
            "400\n",
            "500\n",
            "600\n",
            "Done\n"
          ],
          "name": "stdout"
        }
      ]
    },
    {
      "cell_type": "markdown",
      "metadata": {
        "id": "RbQEhMn7vnQ6",
        "colab_type": "text"
      },
      "source": [
        "CNN model"
      ]
    },
    {
      "cell_type": "code",
      "metadata": {
        "id": "U2tfc0g5wDpw",
        "colab_type": "code",
        "colab": {
          "base_uri": "https://localhost:8080/",
          "height": 35
        },
        "outputId": "36eb0f38-08a3-4b61-8b9f-12ff42df5518"
      },
      "source": [
        "import keras\n",
        "y = keras.utils.to_categorical(y, 4)\n",
        "X = X.astype('float32')\n",
        "X /= 255"
      ],
      "execution_count": null,
      "outputs": [
        {
          "output_type": "stream",
          "text": [
            "Using TensorFlow backend.\n"
          ],
          "name": "stderr"
        }
      ]
    },
    {
      "cell_type": "code",
      "metadata": {
        "id": "3rPrNyykvo_x",
        "colab_type": "code",
        "colab": {}
      },
      "source": [
        "from sklearn.model_selection import train_test_split\n",
        "X_train, X_test, y_train, y_test = train_test_split(X, y, test_size=0.25, random_state=2)\n",
        "X_train, X_val, y_train, y_val = train_test_split(X_train, y_train, test_size=0.2, random_state=5)"
      ],
      "execution_count": null,
      "outputs": []
    },
    {
      "cell_type": "code",
      "metadata": {
        "id": "FJpdE2Y80LB1",
        "colab_type": "code",
        "colab": {}
      },
      "source": [
        "from keras import layers\n",
        "from keras.layers import Conv2D, MaxPooling2D, Flatten, Dense, Dropout\n",
        "import keras"
      ],
      "execution_count": null,
      "outputs": []
    },
    {
      "cell_type": "markdown",
      "metadata": {
        "id": "Y8FWNLhRvcIv",
        "colab_type": "text"
      },
      "source": [
        "To visualize results"
      ]
    },
    {
      "cell_type": "code",
      "metadata": {
        "id": "udJLGGFrvePn",
        "colab_type": "code",
        "colab": {}
      },
      "source": [
        "def visualize_results(history):\n",
        "\n",
        "    # Plot the accuracy and loss curves\n",
        "    \n",
        "    acc = history.history['accuracy']\n",
        "    val_acc = history.history['val_accuracy']\n",
        "    loss = history.history['loss']\n",
        "    val_loss = history.history['val_loss']\n",
        "    \n",
        "    epochs = range(len(acc))\n",
        "    \n",
        "    plt.plot(epochs, acc, 'b', label='Training acc')\n",
        "    plt.plot(epochs, val_acc, 'r', label='Validation acc')\n",
        "    plt.title('Training and validation accuracy')\n",
        "    \n",
        "    plt.legend()\n",
        "    \n",
        "    plt.figure()\n",
        "    plt.plot(epochs, loss, 'b', label='Training loss')\n",
        "    \n",
        "    plt.plot(epochs, val_loss, 'r', label='Validation loss')\n",
        "    \n",
        "    plt.title('Training and validation loss')\n",
        "    \n",
        "    plt.legend()\n",
        "    plt.show()"
      ],
      "execution_count": null,
      "outputs": []
    },
    {
      "cell_type": "markdown",
      "metadata": {
        "id": "yspEovdEwE86",
        "colab_type": "text"
      },
      "source": [
        "Creating model using Keras"
      ]
    },
    {
      "cell_type": "markdown",
      "metadata": {
        "id": "FbJpuEAqvBuB",
        "colab_type": "text"
      },
      "source": [
        "Model 1"
      ]
    },
    {
      "cell_type": "code",
      "metadata": {
        "id": "KaoA4DFlOfl7",
        "colab_type": "code",
        "colab": {
          "base_uri": "https://localhost:8080/",
          "height": 1000
        },
        "outputId": "bbb0686d-1aa1-4ee8-96b3-ea3352c56ac0"
      },
      "source": [
        "model = keras.Sequential()\n",
        "\n",
        "#number of filters(patterns to be detected), window size \n",
        "model.add(Conv2D(32, (3,3), padding='same', activation='relu', input_shape=(256,256,3)))\n",
        "model.add(Conv2D(32, (3,3), activation='relu'))\n",
        "\n",
        "#Scales down, by discarding less useful data\n",
        "model.add(MaxPooling2D(pool_size=(2, 2)))\n",
        "\n",
        "#Prevents memorizing of datapoint sets\n",
        "model.add(Dropout(0.3))\n",
        "model.add(Flatten())\n",
        "\n",
        "model.add(Dense(128, activation='relu'))\n",
        "model.add(Dense(128, activation='relu'))\n",
        "model.add(Dropout(0.5))\n",
        "model.add(Dense(4, activation='softmax'))\n",
        "\n",
        "model.summary()\n",
        "##compile the model\n",
        "model.compile(\n",
        "    loss='categorical_crossentropy',\n",
        "    optimizer='adam',\n",
        "    metrics=['accuracy']\n",
        ")\n",
        "\n",
        "#train the model\n",
        "trained_model = model.fit(\n",
        "    X_train,\n",
        "    y_train,\n",
        "    batch_size=32,\n",
        "    epochs=20, #number of iterations\n",
        "    validation_data=(X_val, y_val),\n",
        "    shuffle=True     \n",
        ")\n",
        "# from pathlib import Path\n",
        "# #save the neural network structure\n",
        "# model_structure = model.to_json()\n",
        "# f = Path(\"model_structure.json\")\n",
        "# f.write_text(model_structure)\n",
        "\n",
        "# #Save the network's trained weights\n",
        "# model.save_weights(\"model_weights.h5\")\n"
      ],
      "execution_count": null,
      "outputs": [
        {
          "output_type": "stream",
          "text": [
            "Model: \"sequential_1\"\n",
            "_________________________________________________________________\n",
            "Layer (type)                 Output Shape              Param #   \n",
            "=================================================================\n",
            "conv2d_1 (Conv2D)            (None, 256, 256, 32)      896       \n",
            "_________________________________________________________________\n",
            "conv2d_2 (Conv2D)            (None, 254, 254, 32)      9248      \n",
            "_________________________________________________________________\n",
            "max_pooling2d_1 (MaxPooling2 (None, 127, 127, 32)      0         \n",
            "_________________________________________________________________\n",
            "dropout_1 (Dropout)          (None, 127, 127, 32)      0         \n",
            "_________________________________________________________________\n",
            "flatten_1 (Flatten)          (None, 516128)            0         \n",
            "_________________________________________________________________\n",
            "dense_1 (Dense)              (None, 128)               66064512  \n",
            "_________________________________________________________________\n",
            "dense_2 (Dense)              (None, 128)               16512     \n",
            "_________________________________________________________________\n",
            "dropout_2 (Dropout)          (None, 128)               0         \n",
            "_________________________________________________________________\n",
            "dense_3 (Dense)              (None, 4)                 516       \n",
            "=================================================================\n",
            "Total params: 66,091,684\n",
            "Trainable params: 66,091,684\n",
            "Non-trainable params: 0\n",
            "_________________________________________________________________\n",
            "Train on 2524 samples, validate on 631 samples\n",
            "Epoch 1/20\n",
            "2524/2524 [==============================] - 14s 5ms/step - loss: 2.1411 - accuracy: 0.4794 - val_loss: 1.2621 - val_accuracy: 0.4881\n",
            "Epoch 2/20\n",
            "2524/2524 [==============================] - 7s 3ms/step - loss: 1.2480 - accuracy: 0.5052 - val_loss: 1.2597 - val_accuracy: 0.4881\n",
            "Epoch 3/20\n",
            "2524/2524 [==============================] - 7s 3ms/step - loss: 1.2320 - accuracy: 0.5063 - val_loss: 1.2181 - val_accuracy: 0.4881\n",
            "Epoch 4/20\n",
            "2524/2524 [==============================] - 7s 3ms/step - loss: 1.2115 - accuracy: 0.5091 - val_loss: 1.1884 - val_accuracy: 0.5040\n",
            "Epoch 5/20\n",
            "2524/2524 [==============================] - 7s 3ms/step - loss: 1.1850 - accuracy: 0.5158 - val_loss: 1.1816 - val_accuracy: 0.5040\n",
            "Epoch 6/20\n",
            "2524/2524 [==============================] - 7s 3ms/step - loss: 1.1644 - accuracy: 0.5297 - val_loss: 1.1397 - val_accuracy: 0.5214\n",
            "Epoch 7/20\n",
            "2524/2524 [==============================] - 7s 3ms/step - loss: 1.1478 - accuracy: 0.5297 - val_loss: 1.1291 - val_accuracy: 0.5452\n",
            "Epoch 8/20\n",
            "2524/2524 [==============================] - 7s 3ms/step - loss: 1.1271 - accuracy: 0.5392 - val_loss: 1.1569 - val_accuracy: 0.5055\n",
            "Epoch 9/20\n",
            "2524/2524 [==============================] - 7s 3ms/step - loss: 1.1099 - accuracy: 0.5432 - val_loss: 1.0908 - val_accuracy: 0.5674\n",
            "Epoch 10/20\n",
            "2524/2524 [==============================] - 7s 3ms/step - loss: 1.0912 - accuracy: 0.5479 - val_loss: 1.1067 - val_accuracy: 0.5452\n",
            "Epoch 11/20\n",
            "2524/2524 [==============================] - 7s 3ms/step - loss: 1.0894 - accuracy: 0.5563 - val_loss: 1.0553 - val_accuracy: 0.5642\n",
            "Epoch 12/20\n",
            "2524/2524 [==============================] - 7s 3ms/step - loss: 1.0689 - accuracy: 0.5586 - val_loss: 1.1134 - val_accuracy: 0.5230\n",
            "Epoch 13/20\n",
            "2524/2524 [==============================] - 7s 3ms/step - loss: 1.0461 - accuracy: 0.5749 - val_loss: 1.0364 - val_accuracy: 0.5753\n",
            "Epoch 14/20\n",
            "2524/2524 [==============================] - 7s 3ms/step - loss: 1.0242 - accuracy: 0.5773 - val_loss: 1.0289 - val_accuracy: 0.5880\n",
            "Epoch 15/20\n",
            "2524/2524 [==============================] - 7s 3ms/step - loss: 1.0182 - accuracy: 0.5828 - val_loss: 1.0190 - val_accuracy: 0.5784\n",
            "Epoch 16/20\n",
            "2524/2524 [==============================] - 7s 3ms/step - loss: 1.0073 - accuracy: 0.5820 - val_loss: 1.0123 - val_accuracy: 0.6022\n",
            "Epoch 17/20\n",
            "2524/2524 [==============================] - 7s 3ms/step - loss: 0.9884 - accuracy: 0.5975 - val_loss: 1.0456 - val_accuracy: 0.5468\n",
            "Epoch 18/20\n",
            "2524/2524 [==============================] - 7s 3ms/step - loss: 0.9816 - accuracy: 0.6026 - val_loss: 1.0082 - val_accuracy: 0.5848\n",
            "Epoch 19/20\n",
            "2524/2524 [==============================] - 7s 3ms/step - loss: 0.9443 - accuracy: 0.6121 - val_loss: 0.9493 - val_accuracy: 0.6181\n",
            "Epoch 20/20\n",
            "2524/2524 [==============================] - 7s 3ms/step - loss: 0.9080 - accuracy: 0.6272 - val_loss: 0.8777 - val_accuracy: 0.6498\n"
          ],
          "name": "stdout"
        }
      ]
    },
    {
      "cell_type": "code",
      "metadata": {
        "id": "fDAhSGjIwyIt",
        "colab_type": "code",
        "colab": {
          "base_uri": "https://localhost:8080/",
          "height": 52
        },
        "outputId": "b6edd327-43c3-44d3-bcd9-e32b67fcd75a"
      },
      "source": [
        "_, accuracy = model.evaluate(X_test, y_test)\n",
        "print(f'The model accuracy is {accuracy}')"
      ],
      "execution_count": null,
      "outputs": [
        {
          "output_type": "stream",
          "text": [
            "1052/1052 [==============================] - 1s 1ms/step\n",
            "The model accuracy is 0.6378327012062073\n"
          ],
          "name": "stdout"
        }
      ]
    },
    {
      "cell_type": "code",
      "metadata": {
        "id": "eKu-dTNcv8kP",
        "colab_type": "code",
        "colab": {
          "base_uri": "https://localhost:8080/",
          "height": 545
        },
        "outputId": "0722623a-ffd9-4944-b8b2-e3ffe9ef0fb4"
      },
      "source": [
        "visualize_results(trained_model)"
      ],
      "execution_count": null,
      "outputs": [
        {
          "output_type": "display_data",
          "data": {
            "image/png": "[encoded data removed]",
            "text/plain": [
              "<Figure size 432x288 with 1 Axes>"
            ]
          },
          "metadata": {
            "tags": [],
            "needs_background": "light"
          }
        },
        {
          "output_type": "display_data",
          "data": {
            "image/png": "[encoded data removed]",
            "text/plain": [
              "<Figure size 432x288 with 1 Axes>"
            ]
          },
          "metadata": {
            "tags": [],
            "needs_background": "light"
          }
        }
      ]
    },
    {
      "cell_type": "code",
      "metadata": {
        "id": "VLsGAiILwSlm",
        "colab_type": "code",
        "colab": {}
      },
      "source": [
        "from tensorflow.keras.applications.inception_v3 import InceptionV3\n",
        "from tensorflow.keras.preprocessing import image\n",
        "from tensorflow.keras.models import Model\n",
        "from tensorflow.keras.layers import Dense, GlobalAveragePooling2D"
      ],
      "execution_count": null,
      "outputs": []
    },
    {
      "cell_type": "markdown",
      "metadata": {
        "id": "vFatuPTRy8Tu",
        "colab_type": "text"
      },
      "source": [
        "Model 2\n"
      ]
    },
    {
      "cell_type": "code",
      "metadata": {
        "id": "qvZGCJnCPtzr",
        "colab_type": "code",
        "colab": {
          "base_uri": "https://localhost:8080/",
          "height": 572
        },
        "outputId": "858c1477-bd58-407a-9a31-1459bf83a40d"
      },
      "source": [
        "# create the base pre-trained model\n",
        "base_model = InceptionV3(weights='imagenet', include_top=False)\n",
        "\n",
        "# add a global spatial average pooling layer\n",
        "x = base_model.output\n",
        "x = GlobalAveragePooling2D()(x)\n",
        "# let's add a fully-connected layer\n",
        "x = Dense(1024, activation='relu')(x)\n",
        "# and a logistic layer -- let's say we have 200 classes\n",
        "predictions = Dense(4, activation='softmax')(x)\n",
        "\n",
        "# this is the model we will train\n",
        "model = Model(inputs=base_model.input, outputs=predictions)\n",
        "\n",
        "# first: train only the top layers (which were randomly initialized)\n",
        "# i.e. freeze all convolutional InceptionV3 layers\n",
        "for layer in base_model.layers:\n",
        "    layer.trainable = False\n",
        "\n",
        "# compile the model (should be done *after* setting layers to non-trainable)\n",
        "model.compile(\n",
        "    optimizer='rmsprop',\n",
        "    loss='categorical_crossentropy',\n",
        "    metrics=['accuracy']\n",
        ")\n",
        "# model.summary()\n",
        "# train the model on the new data for a few epochs\n",
        "trained_model_1 = model.fit(\n",
        "    X_train,\n",
        "    y_train,\n",
        "    batch_size=32,\n",
        "    epochs=16, #number of iterations\n",
        "    validation_data=(X_val, y_val),\n",
        "    shuffle=True\n",
        ")"
      ],
      "execution_count": null,
      "outputs": [
        {
          "output_type": "stream",
          "text": [
            "Epoch 1/16\n",
            "79/79 [==============================] - 8s 104ms/step - loss: 1.7095 - accuracy: 0.5040 - val_loss: 0.8845 - val_accuracy: 0.6403\n",
            "Epoch 2/16\n",
            "79/79 [==============================] - 6s 80ms/step - loss: 1.0166 - accuracy: 0.6010 - val_loss: 0.9600 - val_accuracy: 0.5959\n",
            "Epoch 3/16\n",
            "79/79 [==============================] - 6s 80ms/step - loss: 0.8870 - accuracy: 0.6462 - val_loss: 0.7874 - val_accuracy: 0.6815\n",
            "Epoch 4/16\n",
            "79/79 [==============================] - 6s 81ms/step - loss: 0.8106 - accuracy: 0.6747 - val_loss: 1.1453 - val_accuracy: 0.6054\n",
            "Epoch 5/16\n",
            "79/79 [==============================] - 6s 81ms/step - loss: 0.7485 - accuracy: 0.7048 - val_loss: 0.7887 - val_accuracy: 0.6704\n",
            "Epoch 6/16\n",
            "79/79 [==============================] - 6s 80ms/step - loss: 0.6771 - accuracy: 0.7242 - val_loss: 0.8939 - val_accuracy: 0.6513\n",
            "Epoch 7/16\n",
            "79/79 [==============================] - 6s 80ms/step - loss: 0.6561 - accuracy: 0.7429 - val_loss: 0.6805 - val_accuracy: 0.7116\n",
            "Epoch 8/16\n",
            "79/79 [==============================] - 6s 81ms/step - loss: 0.5943 - accuracy: 0.7678 - val_loss: 0.9118 - val_accuracy: 0.6941\n",
            "Epoch 9/16\n",
            "79/79 [==============================] - 6s 80ms/step - loss: 0.5685 - accuracy: 0.7765 - val_loss: 0.7059 - val_accuracy: 0.7179\n",
            "Epoch 10/16\n",
            "79/79 [==============================] - 6s 81ms/step - loss: 0.5100 - accuracy: 0.7987 - val_loss: 0.7827 - val_accuracy: 0.7084\n",
            "Epoch 11/16\n",
            "79/79 [==============================] - 6s 80ms/step - loss: 0.4647 - accuracy: 0.8162 - val_loss: 0.5175 - val_accuracy: 0.7940\n",
            "Epoch 12/16\n",
            "79/79 [==============================] - 6s 80ms/step - loss: 0.4276 - accuracy: 0.8320 - val_loss: 0.6217 - val_accuracy: 0.7639\n",
            "Epoch 13/16\n",
            "79/79 [==============================] - 6s 80ms/step - loss: 0.3878 - accuracy: 0.8506 - val_loss: 0.5286 - val_accuracy: 0.8003\n",
            "Epoch 14/16\n",
            "79/79 [==============================] - 6s 80ms/step - loss: 0.3581 - accuracy: 0.8657 - val_loss: 0.4923 - val_accuracy: 0.8162\n",
            "Epoch 15/16\n",
            "79/79 [==============================] - 6s 81ms/step - loss: 0.3142 - accuracy: 0.8871 - val_loss: 0.6128 - val_accuracy: 0.7924\n",
            "Epoch 16/16\n",
            "79/79 [==============================] - 6s 80ms/step - loss: 0.2727 - accuracy: 0.9002 - val_loss: 0.4761 - val_accuracy: 0.8273\n"
          ],
          "name": "stdout"
        }
      ]
    },
    {
      "cell_type": "code",
      "metadata": {
        "id": "7_lh6sHXxtqD",
        "colab_type": "code",
        "colab": {
          "base_uri": "https://localhost:8080/",
          "height": 580
        },
        "outputId": "fe813029-239c-46d6-e276-92904b979a3e"
      },
      "source": [
        "_, accuracy = model.evaluate(X_test, y_test)\n",
        "print(f'The model accuracy is {accuracy}')\n",
        "visualize_results(trained_model_1)"
      ],
      "execution_count": null,
      "outputs": [
        {
          "output_type": "stream",
          "text": [
            "33/33 [==============================] - 2s 62ms/step - loss: 0.5182 - accuracy: 0.8213\n",
            "The model accuracy is 0.8212927579879761\n"
          ],
          "name": "stdout"
        },
        {
          "output_type": "display_data",
          "data": {
            "image/png": "[encoded data removed]",
            "text/plain": [
              "<Figure size 432x288 with 1 Axes>"
            ]
          },
          "metadata": {
            "tags": [],
            "needs_background": "light"
          }
        },
        {
          "output_type": "display_data",
          "data": {
            "image/png": "[encoded data removed]",
            "text/plain": [
              "<Figure size 432x288 with 1 Axes>"
            ]
          },
          "metadata": {
            "tags": [],
            "needs_background": "light"
          }
        }
      ]
    },
    {
      "cell_type": "code",
      "metadata": {
        "id": "R0oRk27KNqsa",
        "colab_type": "code",
        "colab": {
          "base_uri": "https://localhost:8080/",
          "height": 572
        },
        "outputId": "2e33b44d-7247-47ec-bd99-dea2a9d1a8ee"
      },
      "source": [
        "# create the base pre-trained model\n",
        "base_model = InceptionV3(weights='imagenet', include_top=False)\n",
        "\n",
        "# add a global spatial average pooling layer\n",
        "x = base_model.output\n",
        "x = GlobalAveragePooling2D()(x)\n",
        "# let's add a fully-connected layer\n",
        "x = Dense(1024, activation='relu')(x)\n",
        "# and a logistic layer -- let's say we have 200 classes\n",
        "predictions = Dense(4, activation='softmax')(x)\n",
        "\n",
        "model = Model(inputs=base_model.input, outputs=predictions)\n",
        "\n",
        "# we chose to train the top 2 inception blocks, i.e. we will freeze\n",
        "# the first 249 layers and unfreeze the rest:\n",
        "for layer in model.layers[:249]:\n",
        "   layer.trainable = False\n",
        "for layer in model.layers[249:]:\n",
        "   layer.trainable = True\n",
        "\n",
        "\n",
        "# we use SGD with a low learning rate\n",
        "from tensorflow.keras.optimizers import SGD\n",
        "model.compile(optimizer=SGD(lr=0.0001, momentum=0.9), loss='categorical_crossentropy', metrics=['accuracy'])\n",
        "\n",
        "trained_model_2 = model.fit(\n",
        "    X_train,\n",
        "    y_train,\n",
        "    batch_size=32,\n",
        "    epochs=16, #number of iterations\n",
        "    validation_data=(X_val, y_val),\n",
        "    shuffle=True\n",
        ")"
      ],
      "execution_count": null,
      "outputs": [
        {
          "output_type": "stream",
          "text": [
            "Epoch 1/16\n",
            "79/79 [==============================] - 9s 111ms/step - loss: 1.2039 - accuracy: 0.4952 - val_loss: 1.1769 - val_accuracy: 0.4992\n",
            "Epoch 2/16\n",
            "79/79 [==============================] - 7s 94ms/step - loss: 1.0271 - accuracy: 0.5836 - val_loss: 1.0538 - val_accuracy: 0.5563\n",
            "Epoch 3/16\n",
            "79/79 [==============================] - 7s 94ms/step - loss: 0.9213 - accuracy: 0.6177 - val_loss: 0.9462 - val_accuracy: 0.5975\n",
            "Epoch 4/16\n",
            "79/79 [==============================] - 7s 94ms/step - loss: 0.8538 - accuracy: 0.6525 - val_loss: 0.8755 - val_accuracy: 0.6545\n",
            "Epoch 5/16\n",
            "79/79 [==============================] - 7s 94ms/step - loss: 0.7775 - accuracy: 0.6953 - val_loss: 0.8152 - val_accuracy: 0.6783\n",
            "Epoch 6/16\n",
            "79/79 [==============================] - 7s 94ms/step - loss: 0.7153 - accuracy: 0.7322 - val_loss: 0.7661 - val_accuracy: 0.7116\n",
            "Epoch 7/16\n",
            "79/79 [==============================] - 7s 94ms/step - loss: 0.6540 - accuracy: 0.7599 - val_loss: 0.7176 - val_accuracy: 0.7338\n",
            "Epoch 8/16\n",
            "79/79 [==============================] - 7s 94ms/step - loss: 0.5934 - accuracy: 0.7948 - val_loss: 0.6717 - val_accuracy: 0.7702\n",
            "Epoch 9/16\n",
            "79/79 [==============================] - 7s 94ms/step - loss: 0.5340 - accuracy: 0.8324 - val_loss: 0.6281 - val_accuracy: 0.8003\n",
            "Epoch 10/16\n",
            "79/79 [==============================] - 7s 94ms/step - loss: 0.4707 - accuracy: 0.8594 - val_loss: 0.5837 - val_accuracy: 0.8177\n",
            "Epoch 11/16\n",
            "79/79 [==============================] - 7s 94ms/step - loss: 0.4303 - accuracy: 0.8954 - val_loss: 0.5410 - val_accuracy: 0.8336\n",
            "Epoch 12/16\n",
            "79/79 [==============================] - 7s 94ms/step - loss: 0.3736 - accuracy: 0.9168 - val_loss: 0.5034 - val_accuracy: 0.8463\n",
            "Epoch 13/16\n",
            "79/79 [==============================] - 7s 94ms/step - loss: 0.3348 - accuracy: 0.9279 - val_loss: 0.4734 - val_accuracy: 0.8590\n",
            "Epoch 14/16\n",
            "79/79 [==============================] - 7s 94ms/step - loss: 0.2960 - accuracy: 0.9445 - val_loss: 0.4425 - val_accuracy: 0.8732\n",
            "Epoch 15/16\n",
            "79/79 [==============================] - 7s 94ms/step - loss: 0.2698 - accuracy: 0.9505 - val_loss: 0.4186 - val_accuracy: 0.8811\n",
            "Epoch 16/16\n",
            "79/79 [==============================] - 7s 93ms/step - loss: 0.2371 - accuracy: 0.9580 - val_loss: 0.3955 - val_accuracy: 0.8859\n"
          ],
          "name": "stdout"
        }
      ]
    },
    {
      "cell_type": "code",
      "metadata": {
        "id": "2cjAz1-x04LM",
        "colab_type": "code",
        "colab": {}
      },
      "source": [
        "prediction = model.predict(X)"
      ],
      "execution_count": null,
      "outputs": []
    },
    {
      "cell_type": "markdown",
      "metadata": {
        "id": "C2UMQL8c6JL3",
        "colab_type": "text"
      },
      "source": [
        "Predict classes, and check actual values"
      ]
    },
    {
      "cell_type": "code",
      "metadata": {
        "id": "VI1EtK3h2dZF",
        "colab_type": "code",
        "colab": {}
      },
      "source": [
        "import random\n",
        "for i in range(30):\n",
        "    index = random.randint(0, 500)\n",
        "    print(y[index], prediction[index])"
      ],
      "execution_count": null,
      "outputs": []
    },
    {
      "cell_type": "code",
      "metadata": {
        "id": "EuVY-JVSQmHk",
        "colab_type": "code",
        "colab": {
          "base_uri": "https://localhost:8080/",
          "height": 580
        },
        "outputId": "42f639fa-54ab-452c-8c4c-6dd6ff9df0d0"
      },
      "source": [
        "_, accuracy = model.evaluate(X_test, y_test)\n",
        "print(f'The model accuracy is {accuracy}')\n",
        "visualize_results(trained_model_2)"
      ],
      "execution_count": null,
      "outputs": [
        {
          "output_type": "stream",
          "text": [
            "33/33 [==============================] - 2s 62ms/step - loss: 0.4276 - accuracy: 0.8650\n",
            "The model accuracy is 0.8650190234184265\n"
          ],
          "name": "stdout"
        },
        {
          "output_type": "display_data",
          "data": {
            "image/png": "[encoded data removed]",
            "text/plain": [
              "<Figure size 432x288 with 1 Axes>"
            ]
          },
          "metadata": {
            "tags": [],
            "needs_background": "light"
          }
        },
        {
          "output_type": "display_data",
          "data": {
            "image/png": "[encoded data removed]",
            "text/plain": [
              "<Figure size 432x288 with 1 Axes>"
            ]
          },
          "metadata": {
            "tags": [],
            "needs_background": "light"
          }
        }
      ]
    },
    {
      "cell_type": "code",
      "metadata": {
        "id": "mQCwtclc6Oxt",
        "colab_type": "code",
        "colab": {}
      },
      "source": [
        "from sklearn.metrics import confusion_matrix\n",
        "Y_pred_classes = np.argmax(prediction,axis = 1) \n",
        "# Convert validation observations to one hot vectors\n",
        "Y_true = np.argmax(y,axis = 1) \n",
        "# compute the confusion matrix\n",
        "confusion_mtx = confusion_matrix(Y_true, Y_pred_classes) "
      ],
      "execution_count": null,
      "outputs": []
    },
    {
      "cell_type": "code",
      "metadata": {
        "id": "lntRvmb-6pOn",
        "colab_type": "code",
        "colab": {
          "base_uri": "https://localhost:8080/",
          "height": 555
        },
        "outputId": "e0ee9fdf-520d-465a-bf4a-16d0099ee95c"
      },
      "source": [
        "import seaborn as sns\n",
        "plt.figure(figsize=(10,8))\n",
        "sns.heatmap(confusion_mtx, annot=True, fmt=\"d\")"
      ],
      "execution_count": null,
      "outputs": [
        {
          "output_type": "stream",
          "text": [
            "/usr/local/lib/python3.6/dist-packages/statsmodels/tools/_testing.py:19: FutureWarning: pandas.util.testing is deprecated. Use the functions in the public API at pandas.testing instead.\n",
            "  import pandas.util.testing as tm\n"
          ],
          "name": "stderr"
        },
        {
          "output_type": "execute_result",
          "data": {
            "text/plain": [
              "<matplotlib.axes._subplots.AxesSubplot at 0x7f112c3c4a58>"
            ]
          },
          "metadata": {
            "tags": []
          },
          "execution_count": 54
        },
        {
          "output_type": "display_data",
          "data": {
            "image/png": "[encoded data removed]",
            "text/plain": [
              "<Figure size 720x576 with 2 Axes>"
            ]
          },
          "metadata": {
            "tags": [],
            "needs_background": "light"
          }
        }
      ]
    }
  ]
}